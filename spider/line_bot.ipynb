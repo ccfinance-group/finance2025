{
 "cells": [
  {
   "cell_type": "markdown",
   "id": "996022cc",
   "metadata": {},
   "source": [
    "flask"
   ]
  },
  {
   "cell_type": "code",
   "execution_count": 4,
   "id": "c37fed11",
   "metadata": {},
   "outputs": [
    {
     "name": "stdout",
     "output_type": "stream",
     "text": [
      " * Serving Flask app '__main__'\n",
      " * Debug mode: off\n"
     ]
    },
    {
     "name": "stderr",
     "output_type": "stream",
     "text": [
      "WARNING: This is a development server. Do not use it in a production deployment. Use a production WSGI server instead.\n",
      " * Running on http://127.0.0.1:5000\n",
      "Press CTRL+C to quit\n",
      "127.0.0.1 - - [16/Jun/2025 15:03:51] \"GET / HTTP/1.1\" 200 -\n",
      "127.0.0.1 - - [16/Jun/2025 15:03:51] \"GET /favicon.ico HTTP/1.1\" 404 -\n"
     ]
    }
   ],
   "source": [
    "from flask import Flask # 載入Flask\n",
    "\n",
    "app = Flask(__name__) # 建立 app 變數為 Flask 物件，__name__表示目前執行的程式\n",
    "\n",
    "@app.route(\"/\")           # 使用函式裝飾器，建立一個路由 ( Routes )，可針對主網域 / 發出請求\n",
    "def home():     # 發出請求後會執行 home() 的函式\n",
    "    return \"<h1>hello world</h1>\" # 執行函式後會回傳特定的網頁內容\n",
    "\n",
    "app.run() # 執行"
   ]
  }
 ],
 "metadata": {
  "kernelspec": {
   "display_name": "linebot",
   "language": "python",
   "name": "python3"
  },
  "language_info": {
   "codemirror_mode": {
    "name": "ipython",
    "version": 3
   },
   "file_extension": ".py",
   "mimetype": "text/x-python",
   "name": "python",
   "nbconvert_exporter": "python",
   "pygments_lexer": "ipython3",
   "version": "3.11.11"
  }
 },
 "nbformat": 4,
 "nbformat_minor": 5
}
